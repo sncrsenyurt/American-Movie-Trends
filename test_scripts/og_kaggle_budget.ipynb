{
 "cells": [
  {
   "cell_type": "code",
   "execution_count": null,
   "id": "0e766ee5",
   "metadata": {},
   "outputs": [],
   "source": [
    "# Dependencies\n",
    "import pandas as pd\n",
    "import requests\n",
    "import json\n",
    "import numpy as np\n",
    "import scipy.stats as st\n",
    "import matplotlib.pyplot as plt"
   ]
  },
  {
   "cell_type": "code",
   "execution_count": null,
   "id": "1f4adaee",
   "metadata": {},
   "outputs": [],
   "source": [
    "tmdb_df = pd.read_csv(\"movies_kaggle_tmdb.csv\")"
   ]
  },
  {
   "cell_type": "code",
   "execution_count": null,
   "id": "ada0fa20",
   "metadata": {
    "scrolled": true
   },
   "outputs": [],
   "source": [
    "tmdb_df[\"release_date\"] = tmdb_df[\"release_date\"].astype(\"datetime64\")\n",
    "tmdb_df.head()"
   ]
  },
  {
   "cell_type": "code",
   "execution_count": null,
   "id": "372d06da",
   "metadata": {},
   "outputs": [],
   "source": [
    "tmdb_date_df = tmdb_df[(tmdb_df[\"release_date\"]>=\"2018-01-01\")&(tmdb_df[\"release_date\"]<\"2023-01-01\")]"
   ]
  },
  {
   "cell_type": "code",
   "execution_count": null,
   "id": "77f53e65",
   "metadata": {},
   "outputs": [],
   "source": [
    "tmdb_budget_df = tmdb_date_df[[\"title\",\"original_language\",\"release_date\",\"budget\",\"revenue\"]]\n",
    "tmdb_budget_df.head()"
   ]
  },
  {
   "cell_type": "code",
   "execution_count": null,
   "id": "fd204333",
   "metadata": {},
   "outputs": [],
   "source": [
    "tmdb_budget_df_2 = tmdb_budget_df.rename(columns={\"title\": \"Title\"})\n",
    "tmdb_budget_df_2.head()"
   ]
  },
  {
   "cell_type": "code",
   "execution_count": null,
   "id": "d4cc2625",
   "metadata": {},
   "outputs": [],
   "source": [
    "merged_df = pd.merge(clean_df,tmdb_budget_df_2,how=\"left\",on=\"Title\")"
   ]
  },
  {
   "cell_type": "code",
   "execution_count": null,
   "id": "8f0320f1",
   "metadata": {},
   "outputs": [],
   "source": [
    "merged_df.head()"
   ]
  },
  {
   "cell_type": "code",
   "execution_count": null,
   "id": "993dad04",
   "metadata": {},
   "outputs": [],
   "source": [
    "merged_df[\"Title\"].nunique()"
   ]
  },
  {
   "cell_type": "code",
   "execution_count": null,
   "id": "2058ed26",
   "metadata": {},
   "outputs": [],
   "source": [
    "merged_df = merged_df.to_csv(\"merged.csv\",index=False)"
   ]
  },
  {
   "cell_type": "code",
   "execution_count": null,
   "id": "7c35f925",
   "metadata": {},
   "outputs": [],
   "source": [
    "main_df = pd.read_csv(\"merged.csv\")\n",
    "main_df.head()"
   ]
  },
  {
   "cell_type": "code",
   "execution_count": null,
   "id": "ad31f0c8",
   "metadata": {},
   "outputs": [],
   "source": [
    "tmdb_date_csv = tmdb_date_df.to_csv(\"tmdb_filtered_by_date.csv\",index=False)"
   ]
  },
  {
   "cell_type": "code",
   "execution_count": null,
   "id": "2ec9dd72",
   "metadata": {},
   "outputs": [],
   "source": []
  }
 ],
 "metadata": {
  "kernelspec": {
   "display_name": "PythonData",
   "language": "python",
   "name": "pythondata"
  },
  "language_info": {
   "codemirror_mode": {
    "name": "ipython",
    "version": 3
   },
   "file_extension": ".py",
   "mimetype": "text/x-python",
   "name": "python",
   "nbconvert_exporter": "python",
   "pygments_lexer": "ipython3",
   "version": "3.7.7"
  }
 },
 "nbformat": 4,
 "nbformat_minor": 5
}
