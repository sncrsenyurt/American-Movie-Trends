{
 "cells": [
  {
   "cell_type": "code",
   "execution_count": 1,
   "id": "a51e11da",
   "metadata": {},
   "outputs": [],
   "source": [
    "#Dependencies\n",
    "import pandas as pd\n",
    "import requests\n",
    "import json\n",
    "import bs4 as BeautifulSoup"
   ]
  },
  {
   "cell_type": "code",
   "execution_count": 2,
   "id": "a2479145",
   "metadata": {},
   "outputs": [],
   "source": [
    "#Read kaggle csv\n",
    "kaggle_df = pd.read_csv(\"../moviedata/movies_kaggle_tmdb.csv\")"
   ]
  },
  {
   "cell_type": "code",
   "execution_count": 3,
   "id": "b0f15b46",
   "metadata": {},
   "outputs": [],
   "source": [
    "#Change release date type to datetime\n",
    "kaggle_df[\"release_date\"] = pd.to_datetime(kaggle_df[\"release_date\"])"
   ]
  },
  {
   "cell_type": "code",
   "execution_count": 4,
   "id": "7d0a149b",
   "metadata": {},
   "outputs": [],
   "source": [
    "#Only keep movies released between 2018 and 2022\n",
    "kaggle_dates = kaggle_df.loc[(kaggle_df[\"release_date\"]>=\"2018-01-01\")&\n",
    "                             (kaggle_df[\"release_date\"]<\"2023-01-01\")]"
   ]
  },
  {
   "cell_type": "code",
   "execution_count": 5,
   "id": "91ae8679",
   "metadata": {},
   "outputs": [],
   "source": [
    "#Only keep the title, language, and runtime columns\n",
    "kaggle_titles = kaggle_dates[[\"title\",\"original_language\",\"runtime\"]]"
   ]
  },
  {
   "cell_type": "code",
   "execution_count": 6,
   "id": "80808c12",
   "metadata": {},
   "outputs": [
    {
     "name": "stderr",
     "output_type": "stream",
     "text": [
      "C:\\Users\\vinay\\anaconda3\\envs\\PythonData\\lib\\site-packages\\ipykernel_launcher.py:2: SettingWithCopyWarning: \n",
      "A value is trying to be set on a copy of a slice from a DataFrame\n",
      "\n",
      "See the caveats in the documentation: https://pandas.pydata.org/pandas-docs/stable/user_guide/indexing.html#returning-a-view-versus-a-copy\n",
      "  \n"
     ]
    }
   ],
   "source": [
    "#Drop duplicate titles\n",
    "kaggle_titles.drop_duplicates(subset=[\"title\"],inplace=True)"
   ]
  },
  {
   "cell_type": "code",
   "execution_count": 7,
   "id": "96d1602e",
   "metadata": {},
   "outputs": [],
   "source": [
    "#Only keep english movies\n",
    "kaggle_eng = kaggle_titles.loc[kaggle_titles[\"original_language\"]==\"en\"]"
   ]
  },
  {
   "cell_type": "code",
   "execution_count": 8,
   "id": "e9efab7d",
   "metadata": {},
   "outputs": [],
   "source": [
    "#Filter movie runtime\n",
    "kaggle_runtime = kaggle_eng.loc[(kaggle_eng[\"runtime\"]>=90)&\n",
    "                                (kaggle_eng[\"runtime\"]<241)]"
   ]
  },
  {
   "cell_type": "code",
   "execution_count": 9,
   "id": "7b4b893d",
   "metadata": {},
   "outputs": [],
   "source": [
    "#Export to csv\n",
    "kaggle_runtime.to_csv(\"../moviedata/kaggle_clean.csv\",index=False)"
   ]
  },
  {
   "cell_type": "code",
   "execution_count": 10,
   "id": "f53a88ab",
   "metadata": {},
   "outputs": [
    {
     "data": {
      "text/html": [
       "<div>\n",
       "<style scoped>\n",
       "    .dataframe tbody tr th:only-of-type {\n",
       "        vertical-align: middle;\n",
       "    }\n",
       "\n",
       "    .dataframe tbody tr th {\n",
       "        vertical-align: top;\n",
       "    }\n",
       "\n",
       "    .dataframe thead th {\n",
       "        text-align: right;\n",
       "    }\n",
       "</style>\n",
       "<table border=\"1\" class=\"dataframe\">\n",
       "  <thead>\n",
       "    <tr style=\"text-align: right;\">\n",
       "      <th></th>\n",
       "      <th>title</th>\n",
       "      <th>original_language</th>\n",
       "      <th>runtime</th>\n",
       "    </tr>\n",
       "  </thead>\n",
       "  <tbody>\n",
       "    <tr>\n",
       "      <th>0</th>\n",
       "      <td>Avatar: The Way of Water</td>\n",
       "      <td>en</td>\n",
       "      <td>192.0</td>\n",
       "    </tr>\n",
       "    <tr>\n",
       "      <th>1</th>\n",
       "      <td>Black Panther: Wakanda Forever</td>\n",
       "      <td>en</td>\n",
       "      <td>162.0</td>\n",
       "    </tr>\n",
       "    <tr>\n",
       "      <th>2</th>\n",
       "      <td>Puss in Boots: The Last Wish</td>\n",
       "      <td>en</td>\n",
       "      <td>103.0</td>\n",
       "    </tr>\n",
       "    <tr>\n",
       "      <th>3</th>\n",
       "      <td>A Man Called Otto</td>\n",
       "      <td>en</td>\n",
       "      <td>126.0</td>\n",
       "    </tr>\n",
       "    <tr>\n",
       "      <th>4</th>\n",
       "      <td>Shotgun Wedding</td>\n",
       "      <td>en</td>\n",
       "      <td>101.0</td>\n",
       "    </tr>\n",
       "    <tr>\n",
       "      <th>...</th>\n",
       "      <td>...</td>\n",
       "      <td>...</td>\n",
       "      <td>...</td>\n",
       "    </tr>\n",
       "    <tr>\n",
       "      <th>11807</th>\n",
       "      <td>Komaali Kings</td>\n",
       "      <td>en</td>\n",
       "      <td>125.0</td>\n",
       "    </tr>\n",
       "    <tr>\n",
       "      <th>11808</th>\n",
       "      <td>Campus Life</td>\n",
       "      <td>en</td>\n",
       "      <td>118.0</td>\n",
       "    </tr>\n",
       "    <tr>\n",
       "      <th>11809</th>\n",
       "      <td>ONE Championship 104: Edge of Greatness</td>\n",
       "      <td>en</td>\n",
       "      <td>120.0</td>\n",
       "    </tr>\n",
       "    <tr>\n",
       "      <th>11810</th>\n",
       "      <td>In Sickness And In Health</td>\n",
       "      <td>en</td>\n",
       "      <td>104.0</td>\n",
       "    </tr>\n",
       "    <tr>\n",
       "      <th>11811</th>\n",
       "      <td>DEFY Vibes 2018</td>\n",
       "      <td>en</td>\n",
       "      <td>120.0</td>\n",
       "    </tr>\n",
       "  </tbody>\n",
       "</table>\n",
       "<p>11812 rows × 3 columns</p>\n",
       "</div>"
      ],
      "text/plain": [
       "                                         title original_language  runtime\n",
       "0                     Avatar: The Way of Water                en    192.0\n",
       "1               Black Panther: Wakanda Forever                en    162.0\n",
       "2                 Puss in Boots: The Last Wish                en    103.0\n",
       "3                            A Man Called Otto                en    126.0\n",
       "4                              Shotgun Wedding                en    101.0\n",
       "...                                        ...               ...      ...\n",
       "11807                            Komaali Kings                en    125.0\n",
       "11808                              Campus Life                en    118.0\n",
       "11809  ONE Championship 104: Edge of Greatness                en    120.0\n",
       "11810                In Sickness And In Health                en    104.0\n",
       "11811                          DEFY Vibes 2018                en    120.0\n",
       "\n",
       "[11812 rows x 3 columns]"
      ]
     },
     "execution_count": 10,
     "metadata": {},
     "output_type": "execute_result"
    }
   ],
   "source": [
    "#Display csv\n",
    "kaggle_clean = pd.read_csv(\"../moviedata/kaggle_clean.csv\")\n",
    "kaggle_clean"
   ]
  }
 ],
 "metadata": {
  "kernelspec": {
   "display_name": "PythonData",
   "language": "python",
   "name": "pythondata"
  },
  "language_info": {
   "codemirror_mode": {
    "name": "ipython",
    "version": 3
   },
   "file_extension": ".py",
   "mimetype": "text/x-python",
   "name": "python",
   "nbconvert_exporter": "python",
   "pygments_lexer": "ipython3",
   "version": "3.7.7"
  }
 },
 "nbformat": 4,
 "nbformat_minor": 5
}
