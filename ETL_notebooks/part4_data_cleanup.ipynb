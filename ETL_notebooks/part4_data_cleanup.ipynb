{
 "cells": [
  {
   "cell_type": "code",
   "execution_count": 1,
   "id": "cc1973d3",
   "metadata": {},
   "outputs": [],
   "source": [
    "#Dependencies\n",
    "import pandas as pd"
   ]
  },
  {
   "cell_type": "code",
   "execution_count": 2,
   "id": "0e24b7e7",
   "metadata": {},
   "outputs": [
    {
     "name": "stdout",
     "output_type": "stream",
     "text": [
      "1458\n"
     ]
    },
    {
     "data": {
      "text/html": [
       "<div>\n",
       "<style scoped>\n",
       "    .dataframe tbody tr th:only-of-type {\n",
       "        vertical-align: middle;\n",
       "    }\n",
       "\n",
       "    .dataframe tbody tr th {\n",
       "        vertical-align: top;\n",
       "    }\n",
       "\n",
       "    .dataframe thead th {\n",
       "        text-align: right;\n",
       "    }\n",
       "</style>\n",
       "<table border=\"1\" class=\"dataframe\">\n",
       "  <thead>\n",
       "    <tr style=\"text-align: right;\">\n",
       "      <th></th>\n",
       "      <th>Title</th>\n",
       "      <th>Type</th>\n",
       "      <th>Release</th>\n",
       "      <th>Runtime</th>\n",
       "      <th>Genre</th>\n",
       "      <th>Nominations</th>\n",
       "      <th>Metascore</th>\n",
       "      <th>imdbRating</th>\n",
       "      <th>imdbVotes</th>\n",
       "      <th>imdbID</th>\n",
       "      <th>Budget</th>\n",
       "      <th>Gross</th>\n",
       "    </tr>\n",
       "  </thead>\n",
       "  <tbody>\n",
       "    <tr>\n",
       "      <th>0</th>\n",
       "      <td>Insidious: The Last Key</td>\n",
       "      <td>Movie</td>\n",
       "      <td>2018-1-5</td>\n",
       "      <td>6180.0</td>\n",
       "      <td>Horror</td>\n",
       "      <td>NaN</td>\n",
       "      <td>49.0</td>\n",
       "      <td>5.7</td>\n",
       "      <td>63102</td>\n",
       "      <td>tt5726086</td>\n",
       "      <td>10000000.0</td>\n",
       "      <td>167885588.0</td>\n",
       "    </tr>\n",
       "    <tr>\n",
       "      <th>1</th>\n",
       "      <td>The Strange Ones</td>\n",
       "      <td>Movie</td>\n",
       "      <td>2018-1-5</td>\n",
       "      <td>4860.0</td>\n",
       "      <td>Drama</td>\n",
       "      <td>NaN</td>\n",
       "      <td>57.0</td>\n",
       "      <td>5.1</td>\n",
       "      <td>2741</td>\n",
       "      <td>tt6014904</td>\n",
       "      <td>NaN</td>\n",
       "      <td>28374.0</td>\n",
       "    </tr>\n",
       "    <tr>\n",
       "      <th>2</th>\n",
       "      <td>Stratton</td>\n",
       "      <td>Movie</td>\n",
       "      <td>2018-1-5</td>\n",
       "      <td>5700.0</td>\n",
       "      <td>Action</td>\n",
       "      <td>NaN</td>\n",
       "      <td>26.0</td>\n",
       "      <td>4.8</td>\n",
       "      <td>5405</td>\n",
       "      <td>tt3567666</td>\n",
       "      <td>NaN</td>\n",
       "      <td>257212.0</td>\n",
       "    </tr>\n",
       "    <tr>\n",
       "      <th>3</th>\n",
       "      <td>Sweet Country</td>\n",
       "      <td>Movie</td>\n",
       "      <td>2018-4-6</td>\n",
       "      <td>6780.0</td>\n",
       "      <td>Adventure</td>\n",
       "      <td>NaN</td>\n",
       "      <td>88.0</td>\n",
       "      <td>6.9</td>\n",
       "      <td>8855</td>\n",
       "      <td>tt6958212</td>\n",
       "      <td>NaN</td>\n",
       "      <td>1849718.0</td>\n",
       "    </tr>\n",
       "    <tr>\n",
       "      <th>4</th>\n",
       "      <td>The Commuter</td>\n",
       "      <td>Movie</td>\n",
       "      <td>2018-1-12</td>\n",
       "      <td>6240.0</td>\n",
       "      <td>Action</td>\n",
       "      <td>NaN</td>\n",
       "      <td>56.0</td>\n",
       "      <td>6.3</td>\n",
       "      <td>118954</td>\n",
       "      <td>tt1590193</td>\n",
       "      <td>30000000.0</td>\n",
       "      <td>119942387.0</td>\n",
       "    </tr>\n",
       "  </tbody>\n",
       "</table>\n",
       "</div>"
      ],
      "text/plain": [
       "                     Title   Type    Release  Runtime      Genre  Nominations  \\\n",
       "0  Insidious: The Last Key  Movie   2018-1-5   6180.0     Horror          NaN   \n",
       "1         The Strange Ones  Movie   2018-1-5   4860.0      Drama          NaN   \n",
       "2                 Stratton  Movie   2018-1-5   5700.0     Action          NaN   \n",
       "3            Sweet Country  Movie   2018-4-6   6780.0  Adventure          NaN   \n",
       "4             The Commuter  Movie  2018-1-12   6240.0     Action          NaN   \n",
       "\n",
       "   Metascore  imdbRating  imdbVotes     imdbID      Budget        Gross  \n",
       "0       49.0         5.7      63102  tt5726086  10000000.0  167885588.0  \n",
       "1       57.0         5.1       2741  tt6014904         NaN      28374.0  \n",
       "2       26.0         4.8       5405  tt3567666         NaN     257212.0  \n",
       "3       88.0         6.9       8855  tt6958212         NaN    1849718.0  \n",
       "4       56.0         6.3     118954  tt1590193  30000000.0  119942387.0  "
      ]
     },
     "execution_count": 2,
     "metadata": {},
     "output_type": "execute_result"
    }
   ],
   "source": [
    "#Read the csv\n",
    "raw_data = pd.read_csv(\"../output_data/imdb_all_movie_data.csv\")\n",
    "print(raw_data[\"Title\"].count())\n",
    "raw_data.head()"
   ]
  },
  {
   "cell_type": "code",
   "execution_count": 3,
   "id": "d91fe213",
   "metadata": {},
   "outputs": [
    {
     "name": "stderr",
     "output_type": "stream",
     "text": [
      "C:\\Users\\vinay\\anaconda3\\envs\\PythonData\\lib\\site-packages\\ipykernel_launcher.py:3: SettingWithCopyWarning: \n",
      "A value is trying to be set on a copy of a slice from a DataFrame.\n",
      "Try using .loc[row_indexer,col_indexer] = value instead\n",
      "\n",
      "See the caveats in the documentation: https://pandas.pydata.org/pandas-docs/stable/user_guide/indexing.html#returning-a-view-versus-a-copy\n",
      "  This is separate from the ipykernel package so we can avoid doing imports until\n"
     ]
    }
   ],
   "source": [
    "#Date format\n",
    "true_dates = raw_data.loc[raw_data[\"Release\"].str.contains(\"None\")==False]\n",
    "true_dates[\"Release\"] = true_dates[\"Release\"].astype(\"datetime64\")\n",
    "\n",
    "#Filters\n",
    "filter_df = true_dates.loc[(true_dates[\"Release\"]>=\"2018-01-01\")&\n",
    "                           (true_dates[\"Release\"]<\"2023-01-01\")&\n",
    "                           (true_dates[\"Type\"]==\"Movie\")&\n",
    "                           (true_dates[\"Runtime\"]>=5400)]"
   ]
  },
  {
   "cell_type": "code",
   "execution_count": 4,
   "id": "76e0717e",
   "metadata": {},
   "outputs": [
    {
     "data": {
      "text/plain": [
       "1155"
      ]
     },
     "execution_count": 4,
     "metadata": {},
     "output_type": "execute_result"
    }
   ],
   "source": [
    "#Count the remaining rows\n",
    "filter_df[\"Title\"].count()"
   ]
  },
  {
   "cell_type": "code",
   "execution_count": 5,
   "id": "01e9fec0",
   "metadata": {},
   "outputs": [],
   "source": [
    "#Read the csvs for each platform\n",
    "netflix = pd.read_csv(\"resources/wikipedia_netflix_movies_2018_to_2022.csv\")\n",
    "amazon = pd.read_csv(\"resources/wikipedia_amazon_movies.csv\")\n",
    "disney = pd.read_csv(\"resources/wikipedia_disney_plus_original_movies.csv\")\n",
    "hulu = pd.read_csv(\"resources/wikipedia_hulu_movies.csv\")"
   ]
  },
  {
   "cell_type": "code",
   "execution_count": 6,
   "id": "5ca529be",
   "metadata": {},
   "outputs": [],
   "source": [
    "#Add platform columns\n",
    "netflix[\"Platform\"] = \"netflix\"\n",
    "amazon[\"Platform\"] = \"amazon\"\n",
    "disney[\"Platform\"] = \"disney\"\n",
    "hulu[\"Platform\"] = \"hulu\""
   ]
  },
  {
   "cell_type": "code",
   "execution_count": 7,
   "id": "bd46f2d6",
   "metadata": {},
   "outputs": [],
   "source": [
    "#Combine streaming platforms\n",
    "streaming = pd.concat([netflix,amazon,disney,hulu])"
   ]
  },
  {
   "cell_type": "code",
   "execution_count": 8,
   "id": "0079aae5",
   "metadata": {},
   "outputs": [],
   "source": [
    "#Merge\n",
    "merge_df = pd.merge(filter_df,streaming,on=\"Title\",how=\"left\")"
   ]
  },
  {
   "cell_type": "code",
   "execution_count": 9,
   "id": "28cd7a57",
   "metadata": {},
   "outputs": [],
   "source": [
    "#Find duplicate titles\n",
    "dupes = merge_df.loc[merge_df[\"Title\"].duplicated()][\"Title\"].unique()\n",
    "\n",
    "#Find indexes for duplicate titles\n",
    "dupes_df = merge_df.loc[merge_df[\"Title\"].isin(dupes),:]\n",
    "\n",
    "#Drop all data for those titles\n",
    "titles_df = merge_df.drop(dupes_df.index)"
   ]
  },
  {
   "cell_type": "code",
   "execution_count": 10,
   "id": "59cdd4aa",
   "metadata": {},
   "outputs": [],
   "source": [
    "#Fill null platform types\n",
    "titles_df[\"Platform\"].fillna(\"others\",inplace=True)"
   ]
  },
  {
   "cell_type": "code",
   "execution_count": 11,
   "id": "b993c6b9",
   "metadata": {},
   "outputs": [],
   "source": [
    "#Export to csv\n",
    "titles_df.to_csv(\"../output_data/clean_data_for_analysis.csv\",index=False)"
   ]
  }
 ],
 "metadata": {
  "kernelspec": {
   "display_name": "PythonData",
   "language": "python",
   "name": "pythondata"
  },
  "language_info": {
   "codemirror_mode": {
    "name": "ipython",
    "version": 3
   },
   "file_extension": ".py",
   "mimetype": "text/x-python",
   "name": "python",
   "nbconvert_exporter": "python",
   "pygments_lexer": "ipython3",
   "version": "3.7.7"
  }
 },
 "nbformat": 4,
 "nbformat_minor": 5
}
