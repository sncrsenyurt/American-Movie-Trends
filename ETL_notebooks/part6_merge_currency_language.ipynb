{
 "cells": [
  {
   "cell_type": "code",
   "execution_count": 1,
   "id": "4950d122",
   "metadata": {},
   "outputs": [],
   "source": [
    "#Dependencies\n",
    "import pandas as pd"
   ]
  },
  {
   "cell_type": "code",
   "execution_count": 2,
   "id": "857a644f",
   "metadata": {},
   "outputs": [],
   "source": [
    "#Read csvs into DataFrames\n",
    "main_df = pd.read_csv(\"../output_data/clean_data_for_analysis.csv\")\n",
    "curr_lang_df = pd.read_csv(\"currency_language.csv\")"
   ]
  },
  {
   "cell_type": "code",
   "execution_count": 3,
   "id": "63ec472a",
   "metadata": {},
   "outputs": [
    {
     "name": "stdout",
     "output_type": "stream",
     "text": [
      "1153\n"
     ]
    }
   ],
   "source": [
    "#Merge DataFrames\n",
    "clean_df = pd.merge(main_df,curr_lang_df,on=\"imdbID\",how=\"left\")\n",
    "print(clean_df[\"Title\"].nunique())"
   ]
  },
  {
   "cell_type": "code",
   "execution_count": 4,
   "id": "eee0b270",
   "metadata": {},
   "outputs": [],
   "source": [
    "#Export to csv\n",
    "clean_df.to_csv(\"../output_data/clean_with_currency_language.csv\",index=False)"
   ]
  }
 ],
 "metadata": {
  "kernelspec": {
   "display_name": "PythonData",
   "language": "python",
   "name": "pythondata"
  },
  "language_info": {
   "codemirror_mode": {
    "name": "ipython",
    "version": 3
   },
   "file_extension": ".py",
   "mimetype": "text/x-python",
   "name": "python",
   "nbconvert_exporter": "python",
   "pygments_lexer": "ipython3",
   "version": "3.7.7"
  }
 },
 "nbformat": 4,
 "nbformat_minor": 5
}
